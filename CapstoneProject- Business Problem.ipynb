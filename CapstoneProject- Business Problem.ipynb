{
    "cells": [
        {
            "cell_type": "markdown",
            "metadata": {
                "collapsed": true
            },
            "source": "# Capstone Project - The Battle of the Neighborhoods (Week 2)\n"
        },
        {
            "cell_type": "markdown",
            "metadata": {},
            "source": "By Carter Tu"
        },
        {
            "cell_type": "markdown",
            "metadata": {},
            "source": "# Introduction - Optimal Location for Fitness Center in Toronto"
        },
        {
            "cell_type": "markdown",
            "metadata": {},
            "source": "# 1,Problem"
        },
        {
            "cell_type": "markdown",
            "metadata": {},
            "source": "In this project, we will try to find the optimal location for an fitness center in Toronto. The awareness of physical health has never been higher, more and more people are trying to get fit, try to excercise more. But winter in Toronto is long and cold, many fitness center are hard to reach especially for people living outside of downtown. In this case, close to subway stations will be a prefer location for a new fitness center. To aviod competition, we don't want to be in a proximity of existing fitness center.\n\ncondition:\nNo existing fitness center within 500m and the subway station latitude and longitude coordinates."
        },
        {
            "cell_type": "markdown",
            "metadata": {},
            "source": "# 2, Data"
        },
        {
            "cell_type": "markdown",
            "metadata": {},
            "source": "Based on our problem, we need locations of subway stations and fitness centers in Toronto.\n\n1,Foresquare location data will be used to get locations of fitness centers in toronto.\n\n2,For subway station location data we will use the data from this web address:https://en.wikipedia.org/wiki/List_of_Toronto_subway_stations"
        },
        {
            "cell_type": "code",
            "execution_count": null,
            "metadata": {},
            "outputs": [],
            "source": ""
        }
    ],
    "metadata": {
        "kernelspec": {
            "display_name": "Python 3.6",
            "language": "python",
            "name": "python3"
        },
        "language_info": {
            "codemirror_mode": {
                "name": "ipython",
                "version": 3
            },
            "file_extension": ".py",
            "mimetype": "text/x-python",
            "name": "python",
            "nbconvert_exporter": "python",
            "pygments_lexer": "ipython3",
            "version": "3.6.8"
        }
    },
    "nbformat": 4,
    "nbformat_minor": 1
}